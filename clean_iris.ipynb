{
 "cells": [
  {
   "cell_type": "code",
   "execution_count": 1,
   "metadata": {},
   "outputs": [],
   "source": [
    "# 1 - Set up\n",
    "\n",
    "import numpy as np\n",
    "import pandas as pd\n",
    "\n",
    "filepath = 'iris.data'\n",
    "\n",
    "df = pd.read_csv(filepath, names = ['sepal length','sepal width', 'petal length', 'petal width','class'])\n",
    "\n",
    "# dataframe converted into a numpy array\n",
    "nparray = df.values\n"
   ]
  },
  {
   "cell_type": "code",
   "execution_count": 2,
   "metadata": {},
   "outputs": [],
   "source": [
    "# 1.1 - Select only relevant rows from a panda dataframe\n",
    "\n",
    "#binomial_rows = df.loc[ (df['class'] == 'Iris-setosa') & (df['class'] == 'Iris-versicolor')]\n",
    "binomial_rows = df.loc[df['class'] != 'Iris-virginica']\n",
    "\n",
    "partial_df = binomial_rows"
   ]
  },
  {
   "cell_type": "code",
   "execution_count": 3,
   "metadata": {},
   "outputs": [],
   "source": [
    "# 1.2 - Select columns\n",
    "\n",
    "# numpy array with only the classes\n",
    "y_classes = partial_df.iloc[:,-1].values\n",
    "\n",
    "# numpy array with only the data values\n",
    "X_data = partial_df.iloc[:, :4].values"
   ]
  },
  {
   "cell_type": "code",
   "execution_count": 4,
   "metadata": {},
   "outputs": [],
   "source": [
    "# 2 - Preprocessing\n",
    "\n",
    "from sklearn.preprocessing import LabelEncoder\n",
    "from sklearn.preprocessing import StandardScaler\n",
    "from sklearn.model_selection import train_test_split\n",
    "\n",
    "# Label encoding\n",
    "le = LabelEncoder()\n",
    "#le.fit(y_classes)\n",
    "#target_vector = le.transform(y_classes)\n",
    "y_target_vector = le.fit_transform(y_classes)\n",
    "\n",
    "# Standardize and normalize\n",
    "scaler = StandardScaler()\n",
    "X_scaled_data = scaler.fit_transform(X_data)\n",
    "\n",
    "# Separate training sets from testing sets\n",
    "X_train, X_test, y_train, y_test = train_test_split(X_scaled_data, y_target_vector, test_size = 0.33, random_state = 42)"
   ]
  },
  {
   "cell_type": "code",
   "execution_count": 5,
   "metadata": {},
   "outputs": [
    {
     "data": {
      "text/plain": [
       "1.0"
      ]
     },
     "execution_count": 5,
     "metadata": {},
     "output_type": "execute_result"
    }
   ],
   "source": [
    "# 3 - Model\n",
    "\n",
    "from sklearn.linear_model import LogisticRegression\n",
    "\n",
    "logreg = LogisticRegression(random_state=0, solver='lbfgs',multi_class='multinomial').fit(X_train, y_train)\n",
    "logreg.score(X_test, y_test)"
   ]
  }
 ],
 "metadata": {
  "kernelspec": {
   "display_name": "Python 3",
   "language": "python",
   "name": "python3"
  },
  "language_info": {
   "codemirror_mode": {
    "name": "ipython",
    "version": 3
   },
   "file_extension": ".py",
   "mimetype": "text/x-python",
   "name": "python",
   "nbconvert_exporter": "python",
   "pygments_lexer": "ipython3",
   "version": "3.7.3"
  }
 },
 "nbformat": 4,
 "nbformat_minor": 2
}
